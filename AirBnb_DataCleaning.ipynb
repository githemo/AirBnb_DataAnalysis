{
 "cells": [
  {
   "cell_type": "code",
   "execution_count": 2,
   "metadata": {},
   "outputs": [],
   "source": [
    "import pandas as pd\n",
    "from sklearn.impute import SimpleImputer"
   ]
  },
  {
   "cell_type": "code",
   "execution_count": 3,
   "metadata": {},
   "outputs": [],
   "source": [
    "# Import the CSV file\n",
    "listings_df = pd.read_csv(\"/Users/musta/OneDrive/Documents/School/DATA485/AirBnB Data/listings-Meng Tian.csv\")"
   ]
  },
  {
   "cell_type": "code",
   "execution_count": 4,
   "metadata": {},
   "outputs": [
    {
     "data": {
      "text/html": [
       "<div>\n",
       "<style scoped>\n",
       "    .dataframe tbody tr th:only-of-type {\n",
       "        vertical-align: middle;\n",
       "    }\n",
       "\n",
       "    .dataframe tbody tr th {\n",
       "        vertical-align: top;\n",
       "    }\n",
       "\n",
       "    .dataframe thead th {\n",
       "        text-align: right;\n",
       "    }\n",
       "</style>\n",
       "<table border=\"1\" class=\"dataframe\">\n",
       "  <thead>\n",
       "    <tr style=\"text-align: right;\">\n",
       "      <th></th>\n",
       "      <th>description</th>\n",
       "      <th>host_id</th>\n",
       "      <th>host_name</th>\n",
       "      <th>neighbourhood_group</th>\n",
       "      <th>neighbourhood</th>\n",
       "      <th>latitude</th>\n",
       "      <th>longitude</th>\n",
       "      <th>room_type</th>\n",
       "      <th>price</th>\n",
       "      <th>minimum_nights</th>\n",
       "      <th>number_of_reviews</th>\n",
       "      <th>reviews_per_month</th>\n",
       "      <th>calculated_host_listings_count</th>\n",
       "      <th>availability_365</th>\n",
       "    </tr>\n",
       "  </thead>\n",
       "  <tbody>\n",
       "    <tr>\n",
       "      <th>0</th>\n",
       "      <td>FIR - Large Private room in Lake Forest with sink</td>\n",
       "      <td>435279521</td>\n",
       "      <td>Nathan</td>\n",
       "      <td>Lake City</td>\n",
       "      <td>Cedar Park</td>\n",
       "      <td>47.73908</td>\n",
       "      <td>-122.29009</td>\n",
       "      <td>Private room</td>\n",
       "      <td>42</td>\n",
       "      <td>1</td>\n",
       "      <td>9</td>\n",
       "      <td>2.52</td>\n",
       "      <td>7</td>\n",
       "      <td>364</td>\n",
       "    </tr>\n",
       "    <tr>\n",
       "      <th>1</th>\n",
       "      <td>Water-view retreat with deck, grill, paddleboa...</td>\n",
       "      <td>104834083</td>\n",
       "      <td>Vacasa Washington</td>\n",
       "      <td>Rainier Valley</td>\n",
       "      <td>Rainier Beach</td>\n",
       "      <td>47.50846</td>\n",
       "      <td>-122.23577</td>\n",
       "      <td>Entire home/apt</td>\n",
       "      <td>194</td>\n",
       "      <td>3</td>\n",
       "      <td>2</td>\n",
       "      <td>1.50</td>\n",
       "      <td>46</td>\n",
       "      <td>360</td>\n",
       "    </tr>\n",
       "    <tr>\n",
       "      <th>2</th>\n",
       "      <td>ALKI BEACH-AMAZING SEATTLE STEPS 2 BEACH/BOARD...</td>\n",
       "      <td>25383292</td>\n",
       "      <td>Margaret</td>\n",
       "      <td>West Seattle</td>\n",
       "      <td>Alki</td>\n",
       "      <td>47.58493</td>\n",
       "      <td>-122.40062</td>\n",
       "      <td>Entire home/apt</td>\n",
       "      <td>595</td>\n",
       "      <td>30</td>\n",
       "      <td>20</td>\n",
       "      <td>0.32</td>\n",
       "      <td>2</td>\n",
       "      <td>104</td>\n",
       "    </tr>\n",
       "    <tr>\n",
       "      <th>3</th>\n",
       "      <td>Spacious 2-Bed Home with Backyard</td>\n",
       "      <td>33439044</td>\n",
       "      <td>Aharon</td>\n",
       "      <td>Rainier Valley</td>\n",
       "      <td>Rainier View</td>\n",
       "      <td>47.48163</td>\n",
       "      <td>-122.26550</td>\n",
       "      <td>Entire home/apt</td>\n",
       "      <td>300</td>\n",
       "      <td>30</td>\n",
       "      <td>0</td>\n",
       "      <td>NaN</td>\n",
       "      <td>2</td>\n",
       "      <td>365</td>\n",
       "    </tr>\n",
       "    <tr>\n",
       "      <th>4</th>\n",
       "      <td>Family-friendly home w/ fast wifi &amp; a large yard</td>\n",
       "      <td>121968404</td>\n",
       "      <td>Matt</td>\n",
       "      <td>Northgate</td>\n",
       "      <td>Haller Lake</td>\n",
       "      <td>47.74255</td>\n",
       "      <td>-122.32712</td>\n",
       "      <td>Entire home/apt</td>\n",
       "      <td>248</td>\n",
       "      <td>3</td>\n",
       "      <td>7</td>\n",
       "      <td>2.47</td>\n",
       "      <td>1</td>\n",
       "      <td>156</td>\n",
       "    </tr>\n",
       "  </tbody>\n",
       "</table>\n",
       "</div>"
      ],
      "text/plain": [
       "                                         description    host_id  \\\n",
       "0  FIR - Large Private room in Lake Forest with sink  435279521   \n",
       "1  Water-view retreat with deck, grill, paddleboa...  104834083   \n",
       "2  ALKI BEACH-AMAZING SEATTLE STEPS 2 BEACH/BOARD...   25383292   \n",
       "3                  Spacious 2-Bed Home with Backyard   33439044   \n",
       "4   Family-friendly home w/ fast wifi & a large yard  121968404   \n",
       "\n",
       "           host_name neighbourhood_group  neighbourhood  latitude  longitude  \\\n",
       "0             Nathan           Lake City     Cedar Park  47.73908 -122.29009   \n",
       "1  Vacasa Washington      Rainier Valley  Rainier Beach  47.50846 -122.23577   \n",
       "2           Margaret        West Seattle           Alki  47.58493 -122.40062   \n",
       "3             Aharon      Rainier Valley   Rainier View  47.48163 -122.26550   \n",
       "4               Matt           Northgate    Haller Lake  47.74255 -122.32712   \n",
       "\n",
       "         room_type  price  minimum_nights  number_of_reviews  \\\n",
       "0     Private room     42               1                  9   \n",
       "1  Entire home/apt    194               3                  2   \n",
       "2  Entire home/apt    595              30                 20   \n",
       "3  Entire home/apt    300              30                  0   \n",
       "4  Entire home/apt    248               3                  7   \n",
       "\n",
       "   reviews_per_month  calculated_host_listings_count  availability_365  \n",
       "0               2.52                               7               364  \n",
       "1               1.50                              46               360  \n",
       "2               0.32                               2               104  \n",
       "3                NaN                               2               365  \n",
       "4               2.47                               1               156  "
      ]
     },
     "execution_count": 4,
     "metadata": {},
     "output_type": "execute_result"
    }
   ],
   "source": [
    "# Reading the first few lines of the datafram\n",
    "listings_df.head()"
   ]
  },
  {
   "cell_type": "code",
   "execution_count": 5,
   "metadata": {},
   "outputs": [
    {
     "data": {
      "text/plain": [
       "(5904, 14)"
      ]
     },
     "execution_count": 5,
     "metadata": {},
     "output_type": "execute_result"
    }
   ],
   "source": [
    "# Here we have 14 columns & 5904 rows\n",
    "listings_df.shape"
   ]
  },
  {
   "cell_type": "code",
   "execution_count": 6,
   "metadata": {},
   "outputs": [],
   "source": [
    "# We want to delete a few columns, namely:\n",
    "# host_id & host_name since these have no use for our purpose\n",
    "# neighbourhood since it is a subset of the neighbourhood_group\n",
    "# latitude & longitude since we are not planning on employing geospatial analysis through those values\n",
    "\n",
    "keep_col = ['description','neighbourhood_group','room_type','price','minimum_nights','number_of_reviews','reviews_per_month','calculated_host_listings_count','availability_365']\n",
    "new_f = listings_df[keep_col]\n",
    "new_f.to_csv(\"newFile.csv\", index=False)"
   ]
  },
  {
   "cell_type": "code",
   "execution_count": 7,
   "metadata": {},
   "outputs": [
    {
     "data": {
      "text/html": [
       "<div>\n",
       "<style scoped>\n",
       "    .dataframe tbody tr th:only-of-type {\n",
       "        vertical-align: middle;\n",
       "    }\n",
       "\n",
       "    .dataframe tbody tr th {\n",
       "        vertical-align: top;\n",
       "    }\n",
       "\n",
       "    .dataframe thead th {\n",
       "        text-align: right;\n",
       "    }\n",
       "</style>\n",
       "<table border=\"1\" class=\"dataframe\">\n",
       "  <thead>\n",
       "    <tr style=\"text-align: right;\">\n",
       "      <th></th>\n",
       "      <th>description</th>\n",
       "      <th>neighbourhood_group</th>\n",
       "      <th>room_type</th>\n",
       "      <th>price</th>\n",
       "      <th>minimum_nights</th>\n",
       "      <th>number_of_reviews</th>\n",
       "      <th>reviews_per_month</th>\n",
       "      <th>calculated_host_listings_count</th>\n",
       "      <th>availability_365</th>\n",
       "    </tr>\n",
       "  </thead>\n",
       "  <tbody>\n",
       "    <tr>\n",
       "      <th>0</th>\n",
       "      <td>FIR - Large Private room in Lake Forest with sink</td>\n",
       "      <td>Lake City</td>\n",
       "      <td>Private room</td>\n",
       "      <td>42</td>\n",
       "      <td>1</td>\n",
       "      <td>9</td>\n",
       "      <td>2.52</td>\n",
       "      <td>7</td>\n",
       "      <td>364</td>\n",
       "    </tr>\n",
       "    <tr>\n",
       "      <th>1</th>\n",
       "      <td>Water-view retreat with deck, grill, paddleboa...</td>\n",
       "      <td>Rainier Valley</td>\n",
       "      <td>Entire home/apt</td>\n",
       "      <td>194</td>\n",
       "      <td>3</td>\n",
       "      <td>2</td>\n",
       "      <td>1.50</td>\n",
       "      <td>46</td>\n",
       "      <td>360</td>\n",
       "    </tr>\n",
       "    <tr>\n",
       "      <th>2</th>\n",
       "      <td>ALKI BEACH-AMAZING SEATTLE STEPS 2 BEACH/BOARD...</td>\n",
       "      <td>West Seattle</td>\n",
       "      <td>Entire home/apt</td>\n",
       "      <td>595</td>\n",
       "      <td>30</td>\n",
       "      <td>20</td>\n",
       "      <td>0.32</td>\n",
       "      <td>2</td>\n",
       "      <td>104</td>\n",
       "    </tr>\n",
       "    <tr>\n",
       "      <th>3</th>\n",
       "      <td>Spacious 2-Bed Home with Backyard</td>\n",
       "      <td>Rainier Valley</td>\n",
       "      <td>Entire home/apt</td>\n",
       "      <td>300</td>\n",
       "      <td>30</td>\n",
       "      <td>0</td>\n",
       "      <td>NaN</td>\n",
       "      <td>2</td>\n",
       "      <td>365</td>\n",
       "    </tr>\n",
       "    <tr>\n",
       "      <th>4</th>\n",
       "      <td>Family-friendly home w/ fast wifi &amp; a large yard</td>\n",
       "      <td>Northgate</td>\n",
       "      <td>Entire home/apt</td>\n",
       "      <td>248</td>\n",
       "      <td>3</td>\n",
       "      <td>7</td>\n",
       "      <td>2.47</td>\n",
       "      <td>1</td>\n",
       "      <td>156</td>\n",
       "    </tr>\n",
       "  </tbody>\n",
       "</table>\n",
       "</div>"
      ],
      "text/plain": [
       "                                         description neighbourhood_group  \\\n",
       "0  FIR - Large Private room in Lake Forest with sink           Lake City   \n",
       "1  Water-view retreat with deck, grill, paddleboa...      Rainier Valley   \n",
       "2  ALKI BEACH-AMAZING SEATTLE STEPS 2 BEACH/BOARD...        West Seattle   \n",
       "3                  Spacious 2-Bed Home with Backyard      Rainier Valley   \n",
       "4   Family-friendly home w/ fast wifi & a large yard           Northgate   \n",
       "\n",
       "         room_type  price  minimum_nights  number_of_reviews  \\\n",
       "0     Private room     42               1                  9   \n",
       "1  Entire home/apt    194               3                  2   \n",
       "2  Entire home/apt    595              30                 20   \n",
       "3  Entire home/apt    300              30                  0   \n",
       "4  Entire home/apt    248               3                  7   \n",
       "\n",
       "   reviews_per_month  calculated_host_listings_count  availability_365  \n",
       "0               2.52                               7               364  \n",
       "1               1.50                              46               360  \n",
       "2               0.32                               2               104  \n",
       "3                NaN                               2               365  \n",
       "4               2.47                               1               156  "
      ]
     },
     "execution_count": 7,
     "metadata": {},
     "output_type": "execute_result"
    }
   ],
   "source": [
    "# Reading the first few lines of our new file without the uneeded columns\n",
    "new_f.head()"
   ]
  },
  {
   "cell_type": "code",
   "execution_count": 8,
   "metadata": {},
   "outputs": [
    {
     "data": {
      "text/plain": [
       "(5904, 9)"
      ]
     },
     "execution_count": 8,
     "metadata": {},
     "output_type": "execute_result"
    }
   ],
   "source": [
    "# Now we have 9 columns. The rows remain the same.\n",
    "new_f.shape"
   ]
  },
  {
   "cell_type": "code",
   "execution_count": 9,
   "metadata": {},
   "outputs": [],
   "source": [
    "# Listing the numerical and categorical columns\n",
    "numerical_columns = new_f.select_dtypes(exclude=object).columns.tolist()\n",
    "categorical_columns = new_f.select_dtypes(include=object).columns.tolist()\n"
   ]
  },
  {
   "cell_type": "code",
   "execution_count": 10,
   "metadata": {},
   "outputs": [],
   "source": [
    "# Dealing With Null Values\n",
    "# Numeric columns: Use median imputation\n",
    "numeric_imputer = SimpleImputer(strategy='median')\n",
    "listings_df[numerical_columns] = numeric_imputer.fit_transform(listings_df[numerical_columns])\n",
    "\n",
    "# Categorical columns with mode imputation\n",
    "categorical_imputer = SimpleImputer(strategy='most_frequent')\n",
    "listings_df[categorical_columns] = categorical_imputer.fit_transform(listings_df[categorical_columns])"
   ]
  },
  {
   "cell_type": "code",
   "execution_count": 11,
   "metadata": {},
   "outputs": [
    {
     "name": "stderr",
     "output_type": "stream",
     "text": [
      "C:\\Users\\musta\\AppData\\Local\\Temp\\ipykernel_6956\\238121837.py:2: SettingWithCopyWarning: \n",
      "A value is trying to be set on a copy of a slice from a DataFrame\n",
      "\n",
      "See the caveats in the documentation: https://pandas.pydata.org/pandas-docs/stable/user_guide/indexing.html#returning-a-view-versus-a-copy\n",
      "  new_f.dropna(how='all',inplace=True)\n"
     ]
    }
   ],
   "source": [
    "# Remove rows with all NaN values\n",
    "new_f.dropna(how='all',inplace=True)"
   ]
  },
  {
   "cell_type": "code",
   "execution_count": 12,
   "metadata": {},
   "outputs": [
    {
     "data": {
      "text/plain": [
       "(5904, 9)"
      ]
     },
     "execution_count": 12,
     "metadata": {},
     "output_type": "execute_result"
    }
   ],
   "source": [
    "new_f.shape\n"
   ]
  },
  {
   "cell_type": "code",
   "execution_count": 13,
   "metadata": {},
   "outputs": [],
   "source": [
    "New_df = pd.read_csv(\"/Users/musta/OneDrive/Documents/School/DATA485/AirBnB Data/newFile.csv\")\n"
   ]
  }
 ],
 "metadata": {
  "kernelspec": {
   "display_name": "Python 3",
   "language": "python",
   "name": "python3"
  },
  "language_info": {
   "codemirror_mode": {
    "name": "ipython",
    "version": 3
   },
   "file_extension": ".py",
   "mimetype": "text/x-python",
   "name": "python",
   "nbconvert_exporter": "python",
   "pygments_lexer": "ipython3",
   "version": "3.10.6"
  }
 },
 "nbformat": 4,
 "nbformat_minor": 2
}
