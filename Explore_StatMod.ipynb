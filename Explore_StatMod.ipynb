{
  "cells": [
    {
      "cell_type": "markdown",
      "metadata": {
        "id": "UmcwqLN7Mw-a"
      },
      "source": [
        "# DATA 485 Capstone - EDA"
      ]
    },
    {
      "cell_type": "markdown",
      "metadata": {
        "id": "1RZiIBVMq8UL"
      },
      "source": [
        "Housekeeping Items"
      ]
    },
    {
      "cell_type": "code",
      "execution_count": 2,
      "metadata": {
        "id": "NiO6yiBDO49V"
      },
      "outputs": [],
      "source": [
        "# Run this before any other block of code\n",
        "\n",
        "import numpy as np\n",
        "import pandas as pd\n",
        "import matplotlib.pyplot as plt\n",
        "import statsmodels.api as sm\n",
        "import seaborn as sns\n",
        "import warnings\n",
        "warnings.filterwarnings('ignore')\n"
      ]
    },
    {
      "cell_type": "code",
      "execution_count": 3,
      "metadata": {
        "id": "R-7-YoRPOct9"
      },
      "outputs": [],
      "source": [
        "# Import the cleaned dataset \n",
        "\n",
        "Air_df = pd.read_csv(\"/content/newFile.csv\")\n"
      ]
    },
    {
      "cell_type": "code",
      "execution_count": 4,
      "metadata": {
        "id": "Gu9m4TBKjRUK"
      },
      "outputs": [],
      "source": [
        "# Remove any NaN values from the imported dataset\n",
        "\n",
        "Air_df = Air_df.dropna()\n"
      ]
    },
    {
      "cell_type": "code",
      "execution_count": 5,
      "metadata": {
        "colab": {
          "base_uri": "https://localhost:8080/"
        },
        "id": "9JvexqY2o6nd",
        "outputId": "975db018-e7b8-46d3-bd0c-f7150ca2bbd6"
      },
      "outputs": [
        {
          "name": "stdout",
          "output_type": "stream",
          "text": [
            "                                            description neighbourhood_group  \\\n",
            "0     FIR - Large Private room in Lake Forest with sink           Lake City   \n",
            "1     Water-view retreat with deck, grill, paddleboa...      Rainier Valley   \n",
            "2     ALKI BEACH-AMAZING SEATTLE STEPS 2 BEACH/BOARD...        West Seattle   \n",
            "4      Family-friendly home w/ fast wifi & a large yard           Northgate   \n",
            "5        The Blue Spruce | Spacious and Homey Gathering           Lake City   \n",
            "...                                                 ...                 ...   \n",
            "5899     White Center  studio with kitchenette and bath            Delridge   \n",
            "5900       Lovely 1-bedroom condo next door to Gum Wall            Downtown   \n",
            "5901                                Home away from home            Delridge   \n",
            "5902  Brick duplex- 10 min to downtown- 10 min to SE...            Delridge   \n",
            "5903  Cozy  2-bedroom apartment with free onsite par...      Rainier Valley   \n",
            "\n",
            "            room_type  price  minimum_nights  number_of_reviews  \\\n",
            "0        Private room     42               1                  9   \n",
            "1     Entire home/apt    194               3                  2   \n",
            "2     Entire home/apt    595              30                 20   \n",
            "4     Entire home/apt    248               3                  7   \n",
            "5     Entire home/apt    362               3                  2   \n",
            "...               ...    ...             ...                ...   \n",
            "5899  Entire home/apt    125               3                 16   \n",
            "5900  Entire home/apt    184               1                 22   \n",
            "5901  Entire home/apt    175               3                  5   \n",
            "5902  Entire home/apt    109               1                 21   \n",
            "5903  Entire home/apt    204               2                 15   \n",
            "\n",
            "      reviews_per_month  calculated_host_listings_count  availability_365  \n",
            "0                  2.52                               7               364  \n",
            "1                  1.50                              46               360  \n",
            "2                  0.32                               2               104  \n",
            "4                  2.47                               1               156  \n",
            "5                  1.40                               3               249  \n",
            "...                 ...                             ...               ...  \n",
            "5899               1.10                               1                 0  \n",
            "5900               9.17                               3                 6  \n",
            "5901               0.36                               1                 0  \n",
            "5902               1.33                               1                 0  \n",
            "5903               3.98                               1                 0  \n",
            "\n",
            "[5034 rows x 9 columns]\n"
          ]
        }
      ],
      "source": [
        "print(Air_df)\n"
      ]
    },
    {
      "cell_type": "markdown",
      "metadata": {
        "id": "OD4KWJ09owR7"
      },
      "source": [
        "Basic Statistics"
      ]
    },
    {
      "cell_type": "code",
      "execution_count": 6,
      "metadata": {
        "colab": {
          "base_uri": "https://localhost:8080/"
        },
        "id": "8evRIGD2ooaS",
        "outputId": "ff5a878b-84f6-458e-dca9-336e232d2631"
      },
      "outputs": [
        {
          "data": {
            "text/plain": [
              "count    5034.000000\n",
              "mean      182.319825\n",
              "std       123.608193\n",
              "min         0.000000\n",
              "25%       106.000000\n",
              "50%       150.000000\n",
              "75%       222.000000\n",
              "max      2000.000000\n",
              "Name: price, dtype: float64"
            ]
          },
          "execution_count": 6,
          "metadata": {},
          "output_type": "execute_result"
        }
      ],
      "source": [
        "# Summary statistics for price\n",
        "\n",
        "Air_df['price'].describe()\n"
      ]
    },
    {
      "cell_type": "code",
      "execution_count": 18,
      "metadata": {
        "colab": {
          "base_uri": "https://localhost:8080/"
        },
        "id": "RKwQsP3Eozmn",
        "outputId": "4e7d3da9-82fc-4106-d1bb-abaf50743d65"
      },
      "outputs": [
        {
          "name": "stdout",
          "output_type": "stream",
          "text": [
            "Average annual availability: 179.0 out of 365 days\n"
          ]
        }
      ],
      "source": [
        "# Average number of days available out of 365 calendar year\n",
        "\n",
        "average_annual_availability = Air_df['availability_365'].mean()\n",
        "average_annual_availability = round(average_annual_availability,0)\n",
        "print(f\"Average annual availability: {average_annual_availability} out of 365 days\")\n"
      ]
    },
    {
      "cell_type": "code",
      "execution_count": 17,
      "metadata": {
        "colab": {
          "base_uri": "https://localhost:8080/"
        },
        "id": "KYoRHEEPpa3d",
        "outputId": "be37b112-8757-4280-eb90-f6ce89c317d8"
      },
      "outputs": [
        {
          "name": "stdout",
          "output_type": "stream",
          "text": [
            "Estimated annual occupancy rate: 50.89%\n"
          ]
        }
      ],
      "source": [
        "# Estimating occupancy rates\n",
        "\n",
        "estimated_annual_occupancy_rate = 100 - (average_annual_availability / 365 * 100)\n",
        "estimated_annual_occupancy_rate = round(estimated_annual_occupancy_rate,2)\n",
        "print(f\"Estimated annual occupancy rate: {estimated_annual_occupancy_rate}%\")\n"
      ]
    },
    {
      "cell_type": "code",
      "execution_count": null,
      "metadata": {
        "colab": {
          "base_uri": "https://localhost:8080/",
          "height": 718
        },
        "id": "M7Ob9by6p0mY",
        "outputId": "dd07fdad-3239-45ce-86a0-fc96349f7372"
      },
      "outputs": [
        {
          "data": {
            "image/png": "[encoded data removed]",
            "text/plain": [
              "<Figure size 1000x800 with 1 Axes>"
            ]
          },
          "metadata": {},
          "output_type": "display_data"
        }
      ],
      "source": [
        "# Distribution of Property Types\n",
        "\n",
        "sns.set_style(\"whitegrid\")  # Set the aesthetic style of the plots\n",
        "\n",
        "# Calculate teh distribution of the property types\n",
        "\n",
        "property_type_counts = Air_df['room_type'].value_counts()\n",
        "\n",
        "# Create a bar chart for the distribution of propery types\n",
        "\n",
        "plt.figure(figsize=(10, 8))\n",
        "sns.barplot(x=property_type_counts.values, y=property_type_counts.index, palette=\"Blues_d\")\n",
        "plt.title(\"Distribution of Property Types\")\n",
        "plt.xlabel(\"Number of Listings\")\n",
        "plt.ylabel(\"Propery Type\")\n",
        "plt.show()"
      ]
    },
    {
      "cell_type": "code",
      "execution_count": null,
      "metadata": {
        "colab": {
          "base_uri": "https://localhost:8080/",
          "height": 716
        },
        "id": "GZ0dFxbMqgOL",
        "outputId": "17d553e4-1b64-4d84-9f8d-c6b9d208eac1"
      },
      "outputs": [
        {
          "data": {
            "image/png": "[encoded data removed]",
            "text/plain": [
              "<Figure size 1000x800 with 1 Axes>"
            ]
          },
          "metadata": {},
          "output_type": "display_data"
        }
      ],
      "source": [
        "# Distribution of Neighborhoods\n",
        "\n",
        "neighborhood_counts = Air_df['neighbourhood_group'].value_counts().head(10)\n",
        "# Calculate the distribution of listings by neighborhood\n",
        "\n",
        "# Create a bar chart for the top neighborhoods with the most listings\n",
        "\n",
        "plt.figure(figsize=(10, 8))\n",
        "sns.barplot(x=neighborhood_counts.values, y=neighborhood_counts.index, palette=\"coolwarm\")\n",
        "plt.title('Top 10 Neighborhoods by Number of Listings')\n",
        "plt.xlabel('Number of Listings')\n",
        "plt.ylabel('Neighborhood')\n",
        "plt.show()\n"
      ]
    },
    {
      "cell_type": "markdown",
      "metadata": {
        "id": "tuo_qfWHp96R"
      },
      "source": [
        "Advanced Statistical Analysis"
      ]
    },
    {
      "cell_type": "code",
      "execution_count": null,
      "metadata": {
        "colab": {
          "base_uri": "https://localhost:8080/"
        },
        "id": "93_zjumLh9-f",
        "outputId": "db5c7b36-c4b3-4a09-f5df-00cdfa19b73f"
      },
      "outputs": [
        {
          "name": "stdout",
          "output_type": "stream",
          "text": [
            "                            OLS Regression Results                            \n",
            "==============================================================================\n",
            "Dep. Variable:                  price   R-squared:                       0.031\n",
            "Model:                            OLS   Adj. R-squared:                  0.030\n",
            "Method:                 Least Squares   F-statistic:                     29.54\n",
            "Date:                Fri, 03 May 2024   Prob (F-statistic):           1.27e-29\n",
            "Time:                        04:35:07   Log-Likelihood:                -28377.\n",
            "No. Observations:                4568   AIC:                         5.677e+04\n",
            "Df Residuals:                    4562   BIC:                         5.680e+04\n",
            "Df Model:                           5                                         \n",
            "Covariance Type:            nonrobust                                         \n",
            "==================================================================================================\n",
            "                                     coef    std err          t      P>|t|      [0.025      0.975]\n",
            "--------------------------------------------------------------------------------------------------\n",
            "const                            200.6374      4.800     41.799      0.000     191.227     210.048\n",
            "minimum_nights                    -1.0225      0.135     -7.560      0.000      -1.288      -0.757\n",
            "number_of_reviews                 -0.1468      0.019     -7.742      0.000      -0.184      -0.110\n",
            "reviews_per_month                 -1.7762      1.010     -1.758      0.079      -3.757       0.205\n",
            "calculated_host_listings_count    -0.1217      0.040     -3.048      0.002      -0.200      -0.043\n",
            "availability_365                   0.0507      0.016      3.270      0.001       0.020       0.081\n",
            "==============================================================================\n",
            "Omnibus:                     3805.321   Durbin-Watson:                   1.850\n",
            "Prob(Omnibus):                  0.000   Jarque-Bera (JB):           194065.404\n",
            "Skew:                           3.650   Prob(JB):                         0.00\n",
            "Kurtosis:                      34.086   Cond. No.                         652.\n",
            "==============================================================================\n",
            "\n",
            "Notes:\n",
            "[1] Standard Errors assume that the covariance matrix of the errors is correctly specified.\n"
          ]
        }
      ],
      "source": [
        "# Performing a linear regression analysis on Air_df\n",
        "\n",
        "\n",
        "# Define the dependent and independent variables\n",
        "y = Air_df['price']\n",
        "X = Air_df[['minimum_nights', 'number_of_reviews', 'reviews_per_month', 'calculated_host_listings_count', 'availability_365']]\n",
        "\n",
        "# Add a constant term to the independent variables\n",
        "X = sm.add_constant(X)\n",
        "\n",
        "# Fit the linear regression model\n",
        "model = sm.OLS(y, X).fit()\n",
        "\n",
        "# Print the model summary\n",
        "print(model.summary())\n"
      ]
    },
    {
      "cell_type": "code",
      "execution_count": 1,
      "metadata": {},
      "outputs": [],
      "source": [
        "# Based on the output from the linear regression model:\n",
        "\n",
        "# The R-squared value of 0.031 indicates that the model only explains a very small \n",
        "# portion (around 3.1%) of the variance in the price of Airbnb listings. \n",
        "# This suggests that other factors beyond the chosen independent variables\n",
        "# might play a more significant role in determining price.\n",
        "\n",
        "# All the independent variables (except reviews_per_month) \n",
        "# have p-values less than 0.05, indicating a statistically significant \n",
        "# relationship with price at a 95% confidence level.\n",
        "\n",
        "# Reviews_per_month has a p-value of 0.079, which is borderline significant.\n",
        "# It suggests a weak or possibly no statistically significant relationship\n",
        "# with price based on this model.\n",
        "\n",
        "# Minimum nights, number of reviews, calculated_host_listings_count, and \n",
        "# availability_365 all have negative coefficients. \n",
        "# This suggests that listings with higher values for these features \n",
        "# tend to have lower predicted prices according to the model. \n",
        "# However, the magnitude of these effects might be small \n",
        "# based on the coefficient values.\n",
        "\n",
        "# Note to self: Maybe include additional features in the model\n",
        "# Explore data transformation techniques for some features if they are skewed.\n"
      ]
    },
    {
      "cell_type": "markdown",
      "metadata": {
        "id": "S6uxRUsQTSe6"
      },
      "source": [
        "Principal Component Analysis"
      ]
    },
    {
      "cell_type": "code",
      "execution_count": 10,
      "metadata": {
        "colab": {
          "base_uri": "https://localhost:8080/"
        },
        "id": "gdXoZcMlStpf",
        "outputId": "e60d9540-687d-4ab5-827b-a4a0813f886f"
      },
      "outputs": [
        {
          "name": "stdout",
          "output_type": "stream",
          "text": [
            "      price  minimum_nights  number_of_reviews  reviews_per_month  \\\n",
            "0        42               1                  9               2.52   \n",
            "1       194               3                  2               1.50   \n",
            "2       595              30                 20               0.32   \n",
            "4       248               3                  7               2.47   \n",
            "5       362               3                  2               1.40   \n",
            "...     ...             ...                ...                ...   \n",
            "5899    125               3                 16               1.10   \n",
            "5900    184               1                 22               9.17   \n",
            "5901    175               3                  5               0.36   \n",
            "5902    109               1                 21               1.33   \n",
            "5903    204               2                 15               3.98   \n",
            "\n",
            "      calculated_host_listings_count  availability_365  \n",
            "0                                  7               364  \n",
            "1                                 46               360  \n",
            "2                                  2               104  \n",
            "4                                  1               156  \n",
            "5                                  3               249  \n",
            "...                              ...               ...  \n",
            "5899                               1                 0  \n",
            "5900                               3                 6  \n",
            "5901                               1                 0  \n",
            "5902                               1                 0  \n",
            "5903                               1                 0  \n",
            "\n",
            "[5034 rows x 6 columns]\n"
          ]
        }
      ],
      "source": [
        "# We have to drop any columns with text in order to perform PCA\n",
        "# Get all columns with object data type\n",
        "text_cols = Air_df.select_dtypes(include='object').columns\n",
        "\n",
        "# Drop the text columns\n",
        "Air_df.drop(text_cols, axis=1, inplace=True)\n",
        "\n",
        "# Print the updated DataFrame\n",
        "print(Air_df)\n"
      ]
    },
    {
      "cell_type": "code",
      "execution_count": 11,
      "metadata": {
        "colab": {
          "base_uri": "https://localhost:8080/"
        },
        "id": "vL3OpLSrSAOH",
        "outputId": "c9e11476-49ff-404d-bb36-ec1ec528196e"
      },
      "outputs": [
        {
          "name": "stdout",
          "output_type": "stream",
          "text": [
            "[0.3101327  0.18532663 0.17583332]\n",
            "[[-0.19525182 -0.56051473  0.83656565]\n",
            " [-0.92744059  0.21967784  1.31649252]\n",
            " [-1.31300219  2.69733975 -0.28907743]]\n"
          ]
        }
      ],
      "source": [
        "# Performing Principal component analysis on the dataframe\n",
        "from sklearn.decomposition import PCA\n",
        "\n",
        "# Standardize the data\n",
        "X_scaled = (Air_df - Air_df.mean()) / Air_df.std()\n",
        "\n",
        "# Create a PCA instance with 3 principal components\n",
        "pca = PCA(n_components=3)\n",
        "\n",
        "# Fit the PCA instance to the data\n",
        "pca.fit(X_scaled)\n",
        "\n",
        "# Print the explained variance ratio for each principal component\n",
        "print(pca.explained_variance_ratio_)\n",
        "\n",
        "# Transform the data using the fitted PCA instance\n",
        "X_pca = pca.transform(X_scaled)\n",
        "\n",
        "# Print the first 3 rows of the transformed data\n",
        "print(X_pca[0:3,:])"
      ]
    },
    {
      "cell_type": "code",
      "execution_count": 12,
      "metadata": {
        "colab": {
          "base_uri": "https://localhost:8080/"
        },
        "id": "4JoY9hfpVcay",
        "outputId": "d5ddad0b-a506-4652-9d85-c131933c4b7e"
      },
      "outputs": [
        {
          "name": "stdout",
          "output_type": "stream",
          "text": [
            "\n",
            "Loadings for the first 3 components:\n",
            "Component 1: [-0.02930263 -0.47952406  0.4801602   0.58207255 -0.38933668 -0.21966499]\n",
            "Component 2: [ 0.78982635 -0.32082163 -0.4080963  -0.11945421 -0.28179725 -0.11413251]\n",
            "Component 3: [ 0.27724625 -0.22808511  0.14095136  0.27299629  0.39852564  0.78606282]\n"
          ]
        }
      ],
      "source": [
        "# Analyze the PCA loadings\n",
        "loadings = pca.components_\n",
        "\n",
        "# Print the loadings for the first 3 components\n",
        "print(\"\\nLoadings for the first 3 components:\")\n",
        "for i in range(3):\n",
        "  print(f\"Component {i+1}:\", loadings[i])\n",
        "  "
      ]
    },
    {
      "cell_type": "code",
      "execution_count": 13,
      "metadata": {
        "colab": {
          "base_uri": "https://localhost:8080/"
        },
        "id": "JC4diVvmV1TY",
        "outputId": "92bd8c4f-295a-4cf1-8068-5c3694049ca8"
      },
      "outputs": [
        {
          "name": "stdout",
          "output_type": "stream",
          "text": [
            "\n",
            "Top features contributing to Component 1:\n",
            "- reviews_per_month (0.58)\n",
            "- number_of_reviews (0.48)\n",
            "- price (-0.03)\n",
            "\n",
            "Top features contributing to Component 2:\n",
            "- price (0.79)\n",
            "- availability_365 (-0.11)\n",
            "- reviews_per_month (-0.12)\n",
            "\n",
            "Top features contributing to Component 3:\n",
            "- availability_365 (0.79)\n",
            "- calculated_host_listings_count (0.40)\n",
            "- price (0.28)\n"
          ]
        }
      ],
      "source": [
        "# Feeature (Column) names\n",
        "feature_names = [\"price\", \"minimum_nights\", \"number_of_reviews\", \"reviews_per_month\",\n",
        "                 \"calculated_host_listings_count\", \"availability_365\"]\n",
        "\n",
        "# Analyze top features contributing to each component\n",
        "\n",
        "# Component 1\n",
        "print(\"\\nTop features contributing to Component 1:\")\n",
        "top_indices = loadings[0].argsort()[-3:][::-1]  # Descending order\n",
        "for i in top_indices:\n",
        "  print(f\"- {feature_names[i]} ({loadings[0][i]:.2f})\")\n",
        "\n",
        "# Component 2\n",
        "print(\"\\nTop features contributing to Component 2:\")\n",
        "top_indices = loadings[1].argsort()[-3:][::-1]  # Descending order\n",
        "for i in top_indices:\n",
        "  print(f\"- {feature_names[i]} ({loadings[1][i]:.2f})\")\n",
        "\n",
        "# Component 3\n",
        "print(\"\\nTop features contributing to Component 3:\")\n",
        "top_indices = loadings[2].argsort()[-3:][::-1]  # Descending order\n",
        "for i in top_indices:\n",
        "  print(f\"- {feature_names[i]} ({loadings[2][i]:.2f})\")\n",
        "  "
      ]
    },
    {
      "cell_type": "code",
      "execution_count": null,
      "metadata": {
        "id": "vWpn5sN6XMyQ"
      },
      "outputs": [],
      "source": [
        "# Based on the signs and the features with high loadings:\n",
        "\n",
        "# Component 1: Popularity and Value\n",
        "# This component appears to capture a combination of popularity and potential value for the listing.\n",
        "# Positive loadings on \"Number of Reviews\" and \"Reviews per Month\" suggest listings with\n",
        "# higher engagement contribute more. The slightly negative loading on \"Price\" might indicate\n",
        "# some balance between popularity and affordability within this component.\n",
        "# Listings with good reviews but a slightly lower price might score higher here.\n",
        "\n",
        "# Component 2: Pure Pricing and Availability\n",
        "# This component seems to focus primarily on price and availability. A strong positive\n",
        "# loading on \"Price\" suggests listings with higher prices contribute more to this component.\n",
        "#  A negative loading on \"Availability (days)\" indicates listings with fewer available days\n",
        "# (potentially due to high demand) contribute more. You might consider this component when\n",
        "# setting prices for high-demand periods or adjusting prices based on availability.\n",
        "\n",
        "# Component 3: Established Hosts and Long-Term Availability\n",
        "# This component might be related to established hosts with listings that are frequently\n",
        "# available. The strong positive loading on \"Availability\" suggests listings with\n",
        "# higher overall availability contribute more. A positive loading on \"Calculated Host Listings Count\"\n",
        "# might indicate frequent listings from hosts contribute more. You might consider\n",
        "# this component when setting base prices or offering discounts for longer stays.\n",
        "\n",
        "# Price Strategy and Suggestions:\n",
        "\n",
        "#  - Consider increasing prices for listings with high \"Number of Reviews\" and \"Reviews per Month\"\n",
        "#    (Component 1), but be mindful of maintaining some value perception.\n",
        "#  - During high-demand periods, you might consider raising prices based on Component 2\n",
        "#    (focusing on maximizing income) or adjusting based on remaining availability.\n",
        "#  - For established hosts with high \"Availability\" and potentially more experience\n",
        "#    (Component 3), you could offer slightly lower base prices or discounts for longer stays.\n"
      ]
    }
  ],
  "metadata": {
    "colab": {
      "provenance": []
    },
    "kernelspec": {
      "display_name": "Python 3",
      "name": "python3"
    },
    "language_info": {
      "codemirror_mode": {
        "name": "ipython",
        "version": 3
      },
      "file_extension": ".py",
      "mimetype": "text/x-python",
      "name": "python",
      "nbconvert_exporter": "python",
      "pygments_lexer": "ipython3",
      "version": "3.10.6"
    }
  },
  "nbformat": 4,
  "nbformat_minor": 0
}
